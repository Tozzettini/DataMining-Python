{
 "cells": [
  {
   "cell_type": "markdown",
   "metadata": {},
   "source": [
    "* DAMI Assignment *\n",
    "\n",
    "# Who Survived the Titanic Disaster?"
   ]
  },
  {
   "cell_type": "markdown",
   "metadata": {},
   "source": [
    "## 1. Introduction"
   ]
  },
  {
   "cell_type": "markdown",
   "metadata": {},
   "source": [
    "In this Titanic example, we will use decision trees. The main advantage of this model is that humans can easily understand and reproduce the sequence of decisions taken to predict the target class of a new data point.\n",
    "\n",
    "This is very important for tasks such as medical diagnosis or credit approval, where we want to show a reason for the decision rather than just saying this is what the training data suggests (which is, by definition, what every supervised learning method does).\n",
    "\n",
    "The problem we would like to solve is determining whether a Titanic passenger would have survived, given their age, class, and sex.\n",
    "\n",
    "Why age, class and sex features?\n",
    "\n",
    "Answer: Particular features (the name is an extreme case) could result in overfitting (consider a tree that asks if the name is X; she survived). Features for which a small number of instances with each value present a similar problem. They might not be helpful for generalisation. We will use class, age, and sex because we expect them to have possibly influenced the passenger's survival.\n",
    "\n",
    "For this assignment, you need this Jupyter notebook and this dataset Download dataset. Have fun with data mining and building trees!"
   ]
  },
  {
   "cell_type": "markdown",
   "metadata": {},
   "source": [
    "Each instance in the dataset has the following form:\n",
    "\n",
    "     \"1\",\"1st\",1,\"Allen, Miss Elisabeth Walton\",29.0000,\"Southampton\",\"St Louis, MO\",\"B-5\",\"24160 L221\",\"2\",\"female\"\n",
    "     \n",
    "Note that the raw data consists largely of strings. To apply machine learning algo's these strings have to be converted to numerical data first (at least the columns that are of interest)!"
   ]
  },
  {
   "cell_type": "markdown",
   "metadata": {},
   "source": [
    "## 2. Prepare Dataset with Pandas "
   ]
  },
  {
   "cell_type": "markdown",
   "metadata": {},
   "source": [
    "Pandas is a Python module that works with the so-called dataframe concept (rows are observations, columns refer to the features). A dataframe is essentially a two-dimensional labeled data structure where\n",
    "each column represent a feature and each row represents an observation.\n",
    "\n",
    "More details, see: https://www.kaggle.com/c/titanic/details/getting-started-with-python-ii "
   ]
  },
  {
   "cell_type": "markdown",
   "metadata": {},
   "source": [
    "### 2.1. Load Dataset"
   ]
  },
  {
   "cell_type": "markdown",
   "metadata": {},
   "source": [
    "Download the Titanic dataset (csv file) from Canvas, read it with Pandas into a dataframe. Show the first 5 rows."
   ]
  },
  {
   "cell_type": "code",
   "execution_count": 31,
   "metadata": {},
   "outputs": [
    {
     "name": "stdout",
     "output_type": "stream",
     "text": [
      "   row.names pclass  survived  \\\n",
      "0          1    1st         1   \n",
      "1          2    1st         0   \n",
      "2          3    1st         0   \n",
      "3          4    1st         0   \n",
      "4          5    1st         1   \n",
      "\n",
      "                                              name      age     embarked  \\\n",
      "0                     Allen, Miss Elisabeth Walton  29.0000  Southampton   \n",
      "1                      Allison, Miss Helen Loraine   2.0000  Southampton   \n",
      "2              Allison, Mr Hudson Joshua Creighton  30.0000  Southampton   \n",
      "3  Allison, Mrs Hudson J.C. (Bessie Waldo Daniels)  25.0000  Southampton   \n",
      "4                    Allison, Master Hudson Trevor   0.9167  Southampton   \n",
      "\n",
      "                         home.dest room      ticket   boat     sex  \n",
      "0                     St Louis, MO  B-5  24160 L221      2  female  \n",
      "1  Montreal, PQ / Chesterville, ON  C26         NaN    NaN  female  \n",
      "2  Montreal, PQ / Chesterville, ON  C26         NaN  (135)    male  \n",
      "3  Montreal, PQ / Chesterville, ON  C26         NaN    NaN  female  \n",
      "4  Montreal, PQ / Chesterville, ON  C22         NaN     11    male  \n"
     ]
    }
   ],
   "source": [
    "import pandas as pd\n",
    "import numpy as np\n",
    "\n",
    "# print('numpy version:', np.__version__)\n",
    "# print('matplotlib version:', pd.__version__)\n",
    "\n",
    "## Your code ...\n",
    "\n",
    "# read with pandas into a dataframe\n",
    "\n",
    "\n",
    "# show the first 5 rows\n",
    "\n",
    "df = pd.read_csv('passengers-titanic.csv')\n",
    "print(df.head())\n"
   ]
  },
  {
   "cell_type": "markdown",
   "metadata": {},
   "source": [
    "Also show the 10 last rows. What is the problem in the last couple of rows?\n"
   ]
  },
  {
   "cell_type": "code",
   "execution_count": 32,
   "metadata": {},
   "outputs": [
    {
     "name": "stdout",
     "output_type": "stream",
     "text": [
      "      row.names pclass  survived                    name  age embarked  \\\n",
      "1303       1304    3rd         0      Yasbeck, Mr Antoni  NaN      NaN   \n",
      "1304       1305    3rd         1     Yasbeck, Mrs Antoni  NaN      NaN   \n",
      "1305       1306    3rd         0      Youssef, Mr Gerios  NaN      NaN   \n",
      "1306       1307    3rd         0     Zabour, Miss Hileni  NaN      NaN   \n",
      "1307       1308    3rd         0     Zabour, Miss Tamini  NaN      NaN   \n",
      "1308       1309    3rd         0      Zakarian, Mr Artun  NaN      NaN   \n",
      "1309       1310    3rd         0  Zakarian, Mr Maprieder  NaN      NaN   \n",
      "1310       1311    3rd         0         Zenn, Mr Philip  NaN      NaN   \n",
      "1311       1312    3rd         0           Zievens, Rene  NaN      NaN   \n",
      "1312       1313    3rd         0          Zimmerman, Leo  NaN      NaN   \n",
      "\n",
      "     home.dest room ticket boat     sex  \n",
      "1303       NaN  NaN    NaN  NaN    male  \n",
      "1304       NaN  NaN    NaN  NaN  female  \n",
      "1305       NaN  NaN    NaN  NaN    male  \n",
      "1306       NaN  NaN    NaN  NaN  female  \n",
      "1307       NaN  NaN    NaN  NaN  female  \n",
      "1308       NaN  NaN    NaN  NaN    male  \n",
      "1309       NaN  NaN    NaN  NaN    male  \n",
      "1310       NaN  NaN    NaN  NaN    male  \n",
      "1311       NaN  NaN    NaN  NaN  female  \n",
      "1312       NaN  NaN    NaN  NaN    male  \n"
     ]
    }
   ],
   "source": [
    "## Your code ...\n",
    "\n",
    "# show 10 last rows\n",
    "\n",
    "# problem: ?\n",
    "print(df.tail(10))\n",
    "# Problem: Null values that we dont want\n"
   ]
  },
  {
   "cell_type": "markdown",
   "metadata": {},
   "source": [
    "### 2.2. Investigate Dataset"
   ]
  },
  {
   "cell_type": "markdown",
   "metadata": {},
   "source": [
    "How does Pandas interpret the data? The following 3 commands can be used to investigate the data. Describe in your own words what the command does."
   ]
  },
  {
   "cell_type": "code",
   "execution_count": 33,
   "metadata": {},
   "outputs": [
    {
     "data": {
      "text/plain": [
       "row.names      int64\n",
       "pclass        object\n",
       "survived       int64\n",
       "name          object\n",
       "age          float64\n",
       "embarked      object\n",
       "home.dest     object\n",
       "room          object\n",
       "ticket        object\n",
       "boat          object\n",
       "sex           object\n",
       "dtype: object"
      ]
     },
     "execution_count": 33,
     "metadata": {},
     "output_type": "execute_result"
    }
   ],
   "source": [
    "df.dtypes\n",
    "\n",
    "## Your answer ...\n",
    "## gives  a summary of the data types of each column in the dataset"
   ]
  },
  {
   "cell_type": "code",
   "execution_count": 34,
   "metadata": {},
   "outputs": [
    {
     "name": "stdout",
     "output_type": "stream",
     "text": [
      "<class 'pandas.core.frame.DataFrame'>\n",
      "RangeIndex: 1313 entries, 0 to 1312\n",
      "Data columns (total 11 columns):\n",
      " #   Column     Non-Null Count  Dtype  \n",
      "---  ------     --------------  -----  \n",
      " 0   row.names  1313 non-null   int64  \n",
      " 1   pclass     1313 non-null   object \n",
      " 2   survived   1313 non-null   int64  \n",
      " 3   name       1313 non-null   object \n",
      " 4   age        633 non-null    float64\n",
      " 5   embarked   821 non-null    object \n",
      " 6   home.dest  754 non-null    object \n",
      " 7   room       77 non-null     object \n",
      " 8   ticket     69 non-null     object \n",
      " 9   boat       347 non-null    object \n",
      " 10  sex        1313 non-null   object \n",
      "dtypes: float64(1), int64(2), object(8)\n",
      "memory usage: 113.0+ KB\n"
     ]
    }
   ],
   "source": [
    "df.info()\n",
    "\n",
    "## Your answer ...\n",
    "## Overall Summary of the Data, including information about the index,type and columns, non-null values, and memory usage.\n"
   ]
  },
  {
   "cell_type": "code",
   "execution_count": 35,
   "metadata": {},
   "outputs": [
    {
     "data": {
      "text/html": [
       "<div>\n",
       "<style scoped>\n",
       "    .dataframe tbody tr th:only-of-type {\n",
       "        vertical-align: middle;\n",
       "    }\n",
       "\n",
       "    .dataframe tbody tr th {\n",
       "        vertical-align: top;\n",
       "    }\n",
       "\n",
       "    .dataframe thead th {\n",
       "        text-align: right;\n",
       "    }\n",
       "</style>\n",
       "<table border=\"1\" class=\"dataframe\">\n",
       "  <thead>\n",
       "    <tr style=\"text-align: right;\">\n",
       "      <th></th>\n",
       "      <th>row.names</th>\n",
       "      <th>survived</th>\n",
       "      <th>age</th>\n",
       "    </tr>\n",
       "  </thead>\n",
       "  <tbody>\n",
       "    <tr>\n",
       "      <th>count</th>\n",
       "      <td>1313.000000</td>\n",
       "      <td>1313.000000</td>\n",
       "      <td>633.000000</td>\n",
       "    </tr>\n",
       "    <tr>\n",
       "      <th>mean</th>\n",
       "      <td>657.000000</td>\n",
       "      <td>0.341965</td>\n",
       "      <td>31.194181</td>\n",
       "    </tr>\n",
       "    <tr>\n",
       "      <th>std</th>\n",
       "      <td>379.174762</td>\n",
       "      <td>0.474549</td>\n",
       "      <td>14.747525</td>\n",
       "    </tr>\n",
       "    <tr>\n",
       "      <th>min</th>\n",
       "      <td>1.000000</td>\n",
       "      <td>0.000000</td>\n",
       "      <td>0.166700</td>\n",
       "    </tr>\n",
       "    <tr>\n",
       "      <th>25%</th>\n",
       "      <td>329.000000</td>\n",
       "      <td>0.000000</td>\n",
       "      <td>21.000000</td>\n",
       "    </tr>\n",
       "    <tr>\n",
       "      <th>50%</th>\n",
       "      <td>657.000000</td>\n",
       "      <td>0.000000</td>\n",
       "      <td>30.000000</td>\n",
       "    </tr>\n",
       "    <tr>\n",
       "      <th>75%</th>\n",
       "      <td>985.000000</td>\n",
       "      <td>1.000000</td>\n",
       "      <td>41.000000</td>\n",
       "    </tr>\n",
       "    <tr>\n",
       "      <th>max</th>\n",
       "      <td>1313.000000</td>\n",
       "      <td>1.000000</td>\n",
       "      <td>71.000000</td>\n",
       "    </tr>\n",
       "  </tbody>\n",
       "</table>\n",
       "</div>"
      ],
      "text/plain": [
       "         row.names     survived         age\n",
       "count  1313.000000  1313.000000  633.000000\n",
       "mean    657.000000     0.341965   31.194181\n",
       "std     379.174762     0.474549   14.747525\n",
       "min       1.000000     0.000000    0.166700\n",
       "25%     329.000000     0.000000   21.000000\n",
       "50%     657.000000     0.000000   30.000000\n",
       "75%     985.000000     1.000000   41.000000\n",
       "max    1313.000000     1.000000   71.000000"
      ]
     },
     "execution_count": 35,
     "metadata": {},
     "output_type": "execute_result"
    }
   ],
   "source": [
    "df.describe()\n",
    "\n",
    "## Your answer ...\n",
    "## provides descriptive statistics of numerical columns in the dataset \n"
   ]
  },
  {
   "cell_type": "code",
   "execution_count": 36,
   "metadata": {},
   "outputs": [
    {
     "name": "stdout",
     "output_type": "stream",
     "text": [
      "0    29.0000\n",
      "1     2.0000\n",
      "2    30.0000\n",
      "3    25.0000\n",
      "4     0.9167\n",
      "5    47.0000\n",
      "6    63.0000\n",
      "7    39.0000\n",
      "8    58.0000\n",
      "9    71.0000\n",
      "Name: age, dtype: float64\n"
     ]
    }
   ],
   "source": [
    "# Slice and print the first 10 rows of the 'age' column. \n",
    "\n",
    "## Your code ...\n",
    "\n",
    "print(df['age'].head(10))\n",
    "\n"
   ]
  },
  {
   "cell_type": "code",
   "execution_count": 37,
   "metadata": {},
   "outputs": [],
   "source": [
    "# What kind of object is this 'age' column?   \n",
    "\n",
    "\n",
    "# Note: Single column is neither an numpy array, nor a pandas dataframe but rather a pandas-specific object called data Series.\n",
    "# It is a float64 type"
   ]
  },
  {
   "cell_type": "code",
   "execution_count": 38,
   "metadata": {},
   "outputs": [
    {
     "name": "stdout",
     "output_type": "stream",
     "text": [
      "Average age over all passengers: 31.19418104265403\n"
     ]
    }
   ],
   "source": [
    "# What is the average age over all passengers? about 31 years old\n",
    "\n",
    "## Your code ...\n",
    "average_age = df['age'].mean()\n",
    "print(\"Average age over all passengers:\", average_age)"
   ]
  },
  {
   "cell_type": "code",
   "execution_count": 39,
   "metadata": {},
   "outputs": [
    {
     "name": "stdout",
     "output_type": "stream",
     "text": [
      "         sex pclass      age\n",
      "0     female    1st  29.0000\n",
      "1     female    1st   2.0000\n",
      "2       male    1st  30.0000\n",
      "3     female    1st  25.0000\n",
      "4       male    1st   0.9167\n",
      "...      ...    ...      ...\n",
      "1308    male    3rd      NaN\n",
      "1309    male    3rd      NaN\n",
      "1310    male    3rd      NaN\n",
      "1311  female    3rd      NaN\n",
      "1312    male    3rd      NaN\n",
      "\n",
      "[1313 rows x 3 columns]\n"
     ]
    }
   ],
   "source": [
    "# The next thing we'd like to do is look at more specific subsets of the dataframe. Slice the columns 'sex', 'pclass', \n",
    "# and 'age'.\n",
    "\n",
    "## Your code ...\n",
    "\n",
    "subset = df[['sex', 'pclass', 'age']]\n",
    "print(subset)"
   ]
  },
  {
   "cell_type": "code",
   "execution_count": 40,
   "metadata": {},
   "outputs": [
    {
     "data": {
      "text/html": [
       "<div>\n",
       "<style scoped>\n",
       "    .dataframe tbody tr th:only-of-type {\n",
       "        vertical-align: middle;\n",
       "    }\n",
       "\n",
       "    .dataframe tbody tr th {\n",
       "        vertical-align: top;\n",
       "    }\n",
       "\n",
       "    .dataframe thead th {\n",
       "        text-align: right;\n",
       "    }\n",
       "</style>\n",
       "<table border=\"1\" class=\"dataframe\">\n",
       "  <thead>\n",
       "    <tr style=\"text-align: right;\">\n",
       "      <th></th>\n",
       "      <th>sex</th>\n",
       "      <th>pclass</th>\n",
       "      <th>age</th>\n",
       "    </tr>\n",
       "  </thead>\n",
       "  <tbody>\n",
       "    <tr>\n",
       "      <th>12</th>\n",
       "      <td>female</td>\n",
       "      <td>1st</td>\n",
       "      <td>NaN</td>\n",
       "    </tr>\n",
       "    <tr>\n",
       "      <th>13</th>\n",
       "      <td>male</td>\n",
       "      <td>1st</td>\n",
       "      <td>NaN</td>\n",
       "    </tr>\n",
       "    <tr>\n",
       "      <th>14</th>\n",
       "      <td>male</td>\n",
       "      <td>1st</td>\n",
       "      <td>NaN</td>\n",
       "    </tr>\n",
       "    <tr>\n",
       "      <th>29</th>\n",
       "      <td>male</td>\n",
       "      <td>1st</td>\n",
       "      <td>NaN</td>\n",
       "    </tr>\n",
       "    <tr>\n",
       "      <th>32</th>\n",
       "      <td>male</td>\n",
       "      <td>1st</td>\n",
       "      <td>NaN</td>\n",
       "    </tr>\n",
       "    <tr>\n",
       "      <th>...</th>\n",
       "      <td>...</td>\n",
       "      <td>...</td>\n",
       "      <td>...</td>\n",
       "    </tr>\n",
       "    <tr>\n",
       "      <th>1308</th>\n",
       "      <td>male</td>\n",
       "      <td>3rd</td>\n",
       "      <td>NaN</td>\n",
       "    </tr>\n",
       "    <tr>\n",
       "      <th>1309</th>\n",
       "      <td>male</td>\n",
       "      <td>3rd</td>\n",
       "      <td>NaN</td>\n",
       "    </tr>\n",
       "    <tr>\n",
       "      <th>1310</th>\n",
       "      <td>male</td>\n",
       "      <td>3rd</td>\n",
       "      <td>NaN</td>\n",
       "    </tr>\n",
       "    <tr>\n",
       "      <th>1311</th>\n",
       "      <td>female</td>\n",
       "      <td>3rd</td>\n",
       "      <td>NaN</td>\n",
       "    </tr>\n",
       "    <tr>\n",
       "      <th>1312</th>\n",
       "      <td>male</td>\n",
       "      <td>3rd</td>\n",
       "      <td>NaN</td>\n",
       "    </tr>\n",
       "  </tbody>\n",
       "</table>\n",
       "<p>680 rows × 3 columns</p>\n",
       "</div>"
      ],
      "text/plain": [
       "         sex pclass  age\n",
       "12    female    1st  NaN\n",
       "13      male    1st  NaN\n",
       "14      male    1st  NaN\n",
       "29      male    1st  NaN\n",
       "32      male    1st  NaN\n",
       "...      ...    ...  ...\n",
       "1308    male    3rd  NaN\n",
       "1309    male    3rd  NaN\n",
       "1310    male    3rd  NaN\n",
       "1311  female    3rd  NaN\n",
       "1312    male    3rd  NaN\n",
       "\n",
       "[680 rows x 3 columns]"
      ]
     },
     "execution_count": 40,
     "metadata": {},
     "output_type": "execute_result"
    }
   ],
   "source": [
    "# First look at all of the missing 'age' values, because we will need to address them in our model if we hope to use \n",
    "# all the data for more advanced algorithms. To filter for missing values you can use:\n",
    "df[df['age'].isnull()][['sex', 'pclass', 'age']]"
   ]
  },
  {
   "cell_type": "code",
   "execution_count": 41,
   "metadata": {},
   "outputs": [
    {
     "data": {
      "image/png": "[encoded data removed]",
      "text/plain": [
       "<Figure size 640x480 with 1 Axes>"
      ]
     },
     "metadata": {},
     "output_type": "display_data"
    }
   ],
   "source": [
    "# Before we finish the initial investigation, let's use one other convenience function of pandas to derive a \n",
    "# histogram of any numerical column. \n",
    "import pylab as pyl\n",
    "df['age'].hist()\n",
    "pyl.show()"
   ]
  },
  {
   "cell_type": "code",
   "execution_count": 42,
   "metadata": {},
   "outputs": [
    {
     "data": {
      "image/png": "[encoded data removed]",
      "text/plain": [
       "<Figure size 640x480 with 1 Axes>"
      ]
     },
     "metadata": {},
     "output_type": "display_data"
    }
   ],
   "source": [
    "# Inside the parentheses of .hist(), you can also be more explicit about options of this function. Before you invoke \n",
    "# it, you can also be explicit that you are dropping the missing values of age:\n",
    "df['age'].dropna().hist(bins=16, range=(0,80), alpha = .5)\n",
    "pyl.show()"
   ]
  },
  {
   "cell_type": "markdown",
   "metadata": {},
   "source": [
    "## 3. Data Munging"
   ]
  },
  {
   "cell_type": "markdown",
   "metadata": {},
   "source": [
    "### 3.1. Transform the Data "
   ]
  },
  {
   "cell_type": "markdown",
   "metadata": {},
   "source": [
    "Transform the values in the dataframe into the shape we need for machine learning. \n",
    "\n",
    "First of all, it's hard to run analysis on the string values of \"male\" and \"female\". \n",
    "Let's store this transformation into a new column 'Sex'. We have a precedent of analyzing the women first, so let's decide female = 0 and male = 1.  "
   ]
  },
  {
   "cell_type": "code",
   "execution_count": 49,
   "metadata": {},
   "outputs": [
    {
     "name": "stdout",
     "output_type": "stream",
     "text": [
      "      row.names pclass  survived  \\\n",
      "0             1    1st         1   \n",
      "1             2    1st         0   \n",
      "2             3    1st         0   \n",
      "3             4    1st         0   \n",
      "4             5    1st         1   \n",
      "...         ...    ...       ...   \n",
      "1308       1309    3rd         0   \n",
      "1309       1310    3rd         0   \n",
      "1310       1311    3rd         0   \n",
      "1311       1312    3rd         0   \n",
      "1312       1313    3rd         0   \n",
      "\n",
      "                                                 name      age     embarked  \\\n",
      "0                        Allen, Miss Elisabeth Walton  29.0000  Southampton   \n",
      "1                         Allison, Miss Helen Loraine   2.0000  Southampton   \n",
      "2                 Allison, Mr Hudson Joshua Creighton  30.0000  Southampton   \n",
      "3     Allison, Mrs Hudson J.C. (Bessie Waldo Daniels)  25.0000  Southampton   \n",
      "4                       Allison, Master Hudson Trevor   0.9167  Southampton   \n",
      "...                                               ...      ...          ...   \n",
      "1308                               Zakarian, Mr Artun      NaN          NaN   \n",
      "1309                           Zakarian, Mr Maprieder      NaN          NaN   \n",
      "1310                                  Zenn, Mr Philip      NaN          NaN   \n",
      "1311                                    Zievens, Rene      NaN          NaN   \n",
      "1312                                   Zimmerman, Leo      NaN          NaN   \n",
      "\n",
      "                            home.dest room      ticket   boat     sex  Sex  \\\n",
      "0                        St Louis, MO  B-5  24160 L221      2  female    0   \n",
      "1     Montreal, PQ / Chesterville, ON  C26         NaN    NaN  female    0   \n",
      "2     Montreal, PQ / Chesterville, ON  C26         NaN  (135)    male    1   \n",
      "3     Montreal, PQ / Chesterville, ON  C26         NaN    NaN  female    0   \n",
      "4     Montreal, PQ / Chesterville, ON  C22         NaN     11    male    1   \n",
      "...                               ...  ...         ...    ...     ...  ...   \n",
      "1308                              NaN  NaN         NaN    NaN    male    1   \n",
      "1309                              NaN  NaN         NaN    NaN    male    1   \n",
      "1310                              NaN  NaN         NaN    NaN    male    1   \n",
      "1311                              NaN  NaN         NaN    NaN  female    0   \n",
      "1312                              NaN  NaN         NaN    NaN    male    1   \n",
      "\n",
      "      PClass  AgeFill  FirstClass  SecondClass  ThirdClass  \n",
      "0          1  29.0000           1            0           0  \n",
      "1          1   2.0000           1            0           0  \n",
      "2          1  30.0000           1            0           0  \n",
      "3          1  25.0000           1            0           0  \n",
      "4          1   0.9167           1            0           0  \n",
      "...      ...      ...         ...          ...         ...  \n",
      "1308       3  30.0000           0            0           1  \n",
      "1309       3  30.0000           0            0           1  \n",
      "1310       3  30.0000           0            0           1  \n",
      "1311       3  30.0000           0            0           1  \n",
      "1312       3  30.0000           0            0           1  \n",
      "\n",
      "[1313 rows x 17 columns]\n"
     ]
    }
   ],
   "source": [
    "# Let's store our transformation in a new column, so the original sex isn't changed. Show the first 3 instances.\n",
    "\n",
    "## Your code ...\n",
    "df['Sex'] = df['sex'].map({'female': 0, 'male': 1})\n",
    "print(df)\n"
   ]
  },
  {
   "cell_type": "code",
   "execution_count": 44,
   "metadata": {},
   "outputs": [
    {
     "name": "stdout",
     "output_type": "stream",
     "text": [
      "  pclass  PClass\n",
      "0    1st       1\n",
      "1    1st       1\n",
      "2    1st       1\n"
     ]
    }
   ],
   "source": [
    "# Do the same for passenger class, make it numeric, in a new column PClass. Show the first 3 instances.\n",
    "\n",
    "## Your code ...\n",
    "\n",
    "df['PClass'] = df['pclass'].map({'1st': 1, '2nd': 2, '3rd': 3})\n",
    "print(df[['pclass', 'PClass']].head(3))\n"
   ]
  },
  {
   "cell_type": "code",
   "execution_count": 45,
   "metadata": {},
   "outputs": [
    {
     "name": "stdout",
     "output_type": "stream",
     "text": [
      "     row.names pclass  survived                           name   age  \\\n",
      "322        323    2nd         0             Abelson, Mr Samuel  30.0   \n",
      "324        325    2nd         0        Andrew, Mr Edgar Samuel  18.0   \n",
      "325        326    2nd         0               Andrew, Mr Frank   NaN   \n",
      "326        327    2nd         0           Angle, Mr William A.  34.0   \n",
      "328        329    2nd         0                 Ashby, Mr John  57.0   \n",
      "..         ...    ...       ...                            ...   ...   \n",
      "593        594    2nd         1           Wilhelms, Mr Charles  32.0   \n",
      "595        596    2nd         1    Williams, Mr Charles Eugene   NaN   \n",
      "598        599    2nd         0  Aldworth, Mr Charles Augustus  30.0   \n",
      "600        601    2nd         0                Pernot, Mr Rene   NaN   \n",
      "601        602    2nd         0               Swane, Mr George  18.0   \n",
      "\n",
      "        embarked                                 home.dest  room      ticket  \\\n",
      "322    Cherbourg                       Russia New York, NY   NaN         NaN   \n",
      "324  Southampton  Buenos Aires, Argentina / New Jersey, NJ   NaN         NaN   \n",
      "325  Southampton            Cornwall, England Houghton, MI   NaN         NaN   \n",
      "326  Southampton                          Warwick, England   NaN         NaN   \n",
      "328  Southampton                          West Hoboken, NJ   NaN         NaN   \n",
      "..           ...                                       ...   ...         ...   \n",
      "593  Southampton                           London, England   NaN         NaN   \n",
      "595  Southampton                           Harrow, England   NaN         NaN   \n",
      "598  Southampton                        Bryn Mawr, PA, USA   NaN  248744 L13   \n",
      "600    Cherbourg                                       NaN  2131      L15 1s   \n",
      "601  Southampton                                       NaN   F-?         NaN   \n",
      "\n",
      "      boat   sex  Sex  PClass  \n",
      "322    NaN  male    1       2  \n",
      "324    NaN  male    1       2  \n",
      "325    NaN  male    1       2  \n",
      "326    NaN  male    1       2  \n",
      "328    NaN  male    1       2  \n",
      "..     ...   ...  ...     ...  \n",
      "593      9  male    1       2  \n",
      "595     14  male    1       2  \n",
      "598    NaN  male    1       2  \n",
      "600    NaN  male    1       2  \n",
      "601  (294)  male    1       2  \n",
      "\n",
      "[173 rows x 13 columns]\n"
     ]
    }
   ],
   "source": [
    "# Show all males in the second class\n",
    "\n",
    "## Your code ...\n",
    "males_second_class = df[(df['sex'] == 'male') & (df['pclass'] == '2nd')]\n",
    "print(males_second_class)\n"
   ]
  },
  {
   "cell_type": "markdown",
   "metadata": {},
   "source": [
    "### 3.2. Deal with Missing Values"
   ]
  },
  {
   "cell_type": "markdown",
   "metadata": {},
   "source": [
    "Now it's time to deal with the missing values of age! Why? Simply because most machine learning will need a complete set of \n",
    "values in that column to use it. By filling it in with guesses, we'll be introducing some noise into a model, but if we can \n",
    "keep our guesses reasonable, some of them should be close to the historical truth (whatever it was...), and the overall \n",
    "predictive power of age might still make a better model than before. "
   ]
  },
  {
   "cell_type": "markdown",
   "metadata": {},
   "source": [
    "We know the average age of all passengers (with valid age field) is 31.2 - we could fill in the null values with that mean value. But may be the median would be better? (to reduce the influence of a few rare 70- and 80-year olds?) The age histogram did seem positively skewed. These are the kind of decisions you make as you create your models."
   ]
  },
  {
   "cell_type": "code",
   "execution_count": 46,
   "metadata": {},
   "outputs": [
    {
     "name": "stdout",
     "output_type": "stream",
     "text": [
      "        age  AgeFill\n",
      "0   29.0000  29.0000\n",
      "1    2.0000   2.0000\n",
      "2   30.0000  30.0000\n",
      "3   25.0000  25.0000\n",
      "4    0.9167   0.9167\n",
      "5   47.0000  47.0000\n",
      "6   63.0000  63.0000\n",
      "7   39.0000  39.0000\n",
      "8   58.0000  58.0000\n",
      "9   71.0000  71.0000\n",
      "10  47.0000  47.0000\n",
      "11  19.0000  19.0000\n",
      "12      NaN  30.0000\n",
      "13      NaN  30.0000\n",
      "14      NaN  30.0000\n"
     ]
    }
   ],
   "source": [
    "# Replace the NaN (unknown) age values with a reasonable estimate. Do this in a new column 'AgeFill'\n",
    "## Your code ...\n",
    "\n",
    "median_age = df['age'].median()\n",
    "df['AgeFill'] = df['age'].fillna(median_age)\n",
    "print(df[['age', 'AgeFill']].head(15))\n"
   ]
  },
  {
   "cell_type": "markdown",
   "metadata": {},
   "source": [
    "### 3.3 Hot Encoding"
   ]
  },
  {
   "cell_type": "markdown",
   "metadata": {},
   "source": [
    "We have a categorical feature attribute: pclass. We already converted its three classes into 1, 2, and 3. This transformation implicitly introduces an ordering. \n",
    "\n",
    "As a final step, we will try a more general approach that does not assume an ordering. This is widely used to convert categorical classes into real-valued attributes. We will introduce an additional encoder and convert the class attributes into three new binary features, each of them indicating if the instance belongs to a feature value (1) or (0). This is called one hot encoding, and it is a very common way of managing categorical attributes for real-based methods."
   ]
  },
  {
   "cell_type": "code",
   "execution_count": 61,
   "metadata": {},
   "outputs": [
    {
     "data": {
      "text/html": [
       "<div>\n",
       "<style scoped>\n",
       "    .dataframe tbody tr th:only-of-type {\n",
       "        vertical-align: middle;\n",
       "    }\n",
       "\n",
       "    .dataframe tbody tr th {\n",
       "        vertical-align: top;\n",
       "    }\n",
       "\n",
       "    .dataframe thead th {\n",
       "        text-align: right;\n",
       "    }\n",
       "</style>\n",
       "<table border=\"1\" class=\"dataframe\">\n",
       "  <thead>\n",
       "    <tr style=\"text-align: right;\">\n",
       "      <th></th>\n",
       "      <th>row.names</th>\n",
       "      <th>pclass</th>\n",
       "      <th>survived</th>\n",
       "      <th>name</th>\n",
       "      <th>age</th>\n",
       "      <th>embarked</th>\n",
       "      <th>home.dest</th>\n",
       "      <th>room</th>\n",
       "      <th>ticket</th>\n",
       "      <th>boat</th>\n",
       "      <th>sex</th>\n",
       "      <th>Sex</th>\n",
       "      <th>PClass</th>\n",
       "      <th>AgeFill</th>\n",
       "      <th>FirstClass</th>\n",
       "      <th>SecondClass</th>\n",
       "      <th>ThirdClass</th>\n",
       "    </tr>\n",
       "  </thead>\n",
       "  <tbody>\n",
       "    <tr>\n",
       "      <th>0</th>\n",
       "      <td>1</td>\n",
       "      <td>1st</td>\n",
       "      <td>1</td>\n",
       "      <td>Allen, Miss Elisabeth Walton</td>\n",
       "      <td>29.0000</td>\n",
       "      <td>Southampton</td>\n",
       "      <td>St Louis, MO</td>\n",
       "      <td>B-5</td>\n",
       "      <td>24160 L221</td>\n",
       "      <td>2</td>\n",
       "      <td>female</td>\n",
       "      <td>0</td>\n",
       "      <td>1</td>\n",
       "      <td>29.0000</td>\n",
       "      <td>1</td>\n",
       "      <td>0</td>\n",
       "      <td>0</td>\n",
       "    </tr>\n",
       "    <tr>\n",
       "      <th>1</th>\n",
       "      <td>2</td>\n",
       "      <td>1st</td>\n",
       "      <td>0</td>\n",
       "      <td>Allison, Miss Helen Loraine</td>\n",
       "      <td>2.0000</td>\n",
       "      <td>Southampton</td>\n",
       "      <td>Montreal, PQ / Chesterville, ON</td>\n",
       "      <td>C26</td>\n",
       "      <td>NaN</td>\n",
       "      <td>NaN</td>\n",
       "      <td>female</td>\n",
       "      <td>0</td>\n",
       "      <td>1</td>\n",
       "      <td>2.0000</td>\n",
       "      <td>1</td>\n",
       "      <td>0</td>\n",
       "      <td>0</td>\n",
       "    </tr>\n",
       "    <tr>\n",
       "      <th>2</th>\n",
       "      <td>3</td>\n",
       "      <td>1st</td>\n",
       "      <td>0</td>\n",
       "      <td>Allison, Mr Hudson Joshua Creighton</td>\n",
       "      <td>30.0000</td>\n",
       "      <td>Southampton</td>\n",
       "      <td>Montreal, PQ / Chesterville, ON</td>\n",
       "      <td>C26</td>\n",
       "      <td>NaN</td>\n",
       "      <td>(135)</td>\n",
       "      <td>male</td>\n",
       "      <td>1</td>\n",
       "      <td>1</td>\n",
       "      <td>30.0000</td>\n",
       "      <td>1</td>\n",
       "      <td>0</td>\n",
       "      <td>0</td>\n",
       "    </tr>\n",
       "    <tr>\n",
       "      <th>3</th>\n",
       "      <td>4</td>\n",
       "      <td>1st</td>\n",
       "      <td>0</td>\n",
       "      <td>Allison, Mrs Hudson J.C. (Bessie Waldo Daniels)</td>\n",
       "      <td>25.0000</td>\n",
       "      <td>Southampton</td>\n",
       "      <td>Montreal, PQ / Chesterville, ON</td>\n",
       "      <td>C26</td>\n",
       "      <td>NaN</td>\n",
       "      <td>NaN</td>\n",
       "      <td>female</td>\n",
       "      <td>0</td>\n",
       "      <td>1</td>\n",
       "      <td>25.0000</td>\n",
       "      <td>1</td>\n",
       "      <td>0</td>\n",
       "      <td>0</td>\n",
       "    </tr>\n",
       "    <tr>\n",
       "      <th>4</th>\n",
       "      <td>5</td>\n",
       "      <td>1st</td>\n",
       "      <td>1</td>\n",
       "      <td>Allison, Master Hudson Trevor</td>\n",
       "      <td>0.9167</td>\n",
       "      <td>Southampton</td>\n",
       "      <td>Montreal, PQ / Chesterville, ON</td>\n",
       "      <td>C22</td>\n",
       "      <td>NaN</td>\n",
       "      <td>11</td>\n",
       "      <td>male</td>\n",
       "      <td>1</td>\n",
       "      <td>1</td>\n",
       "      <td>0.9167</td>\n",
       "      <td>1</td>\n",
       "      <td>0</td>\n",
       "      <td>0</td>\n",
       "    </tr>\n",
       "  </tbody>\n",
       "</table>\n",
       "</div>"
      ],
      "text/plain": [
       "   row.names pclass  survived  \\\n",
       "0          1    1st         1   \n",
       "1          2    1st         0   \n",
       "2          3    1st         0   \n",
       "3          4    1st         0   \n",
       "4          5    1st         1   \n",
       "\n",
       "                                              name      age     embarked  \\\n",
       "0                     Allen, Miss Elisabeth Walton  29.0000  Southampton   \n",
       "1                      Allison, Miss Helen Loraine   2.0000  Southampton   \n",
       "2              Allison, Mr Hudson Joshua Creighton  30.0000  Southampton   \n",
       "3  Allison, Mrs Hudson J.C. (Bessie Waldo Daniels)  25.0000  Southampton   \n",
       "4                    Allison, Master Hudson Trevor   0.9167  Southampton   \n",
       "\n",
       "                         home.dest room      ticket   boat     sex  Sex  \\\n",
       "0                     St Louis, MO  B-5  24160 L221      2  female    0   \n",
       "1  Montreal, PQ / Chesterville, ON  C26         NaN    NaN  female    0   \n",
       "2  Montreal, PQ / Chesterville, ON  C26         NaN  (135)    male    1   \n",
       "3  Montreal, PQ / Chesterville, ON  C26         NaN    NaN  female    0   \n",
       "4  Montreal, PQ / Chesterville, ON  C22         NaN     11    male    1   \n",
       "\n",
       "   PClass  AgeFill  FirstClass  SecondClass  ThirdClass  \n",
       "0       1  29.0000           1            0           0  \n",
       "1       1   2.0000           1            0           0  \n",
       "2       1  30.0000           1            0           0  \n",
       "3       1  25.0000           1            0           0  \n",
       "4       1   0.9167           1            0           0  "
      ]
     },
     "execution_count": 61,
     "metadata": {},
     "output_type": "execute_result"
    }
   ],
   "source": [
    "df['FirstClass'] = df['pclass'].map( {'1st': 1, '2nd': 0, '3rd': 0} ).astype(int)\n",
    "df['SecondClass'] = df['pclass'].map( {'1st': 0, '2nd': 1, '3rd': 0} ).astype(int)\n",
    "df['ThirdClass'] = df['pclass'].map( {'1st': 0, '2nd': 0, '3rd': 1} ).astype(int)\n",
    "\n",
    "df.head(5)"
   ]
  },
  {
   "cell_type": "markdown",
   "metadata": {},
   "source": [
    "## 4. Finalize Dataset for Analysis"
   ]
  },
  {
   "cell_type": "code",
   "execution_count": 67,
   "metadata": {},
   "outputs": [
    {
     "name": "stdout",
     "output_type": "stream",
     "text": [
      "   Sex  PClass  AgeFill  FirstClass  SecondClass  ThirdClass\n",
      "0    0       1  29.0000           1            0           0\n",
      "1    0       1   2.0000           1            0           0\n",
      "2    1       1  30.0000           1            0           0\n",
      "3    0       1  25.0000           1            0           0\n",
      "4    1       1   0.9167           1            0           0\n",
      "5    1       1  47.0000           1            0           0\n",
      "6    0       1  63.0000           1            0           0\n",
      "7    1       1  39.0000           1            0           0\n",
      "8    0       1  58.0000           1            0           0\n",
      "9    1       1  71.0000           1            0           0\n"
     ]
    }
   ],
   "source": [
    "# Finalize pre-processing by turning this into a numerical feature set (dataframe titanic_X) and a numerical target column \n",
    "# (dataframe titanic_y)\n",
    "\n",
    "## Your code ...\n",
    "titanic_X = df.drop(columns=['survived','age','row.names','boat','name','embarked','home.dest', 'pclass', 'sex', 'ticket','room'])\n",
    "# titanic_X = df['PClass','Sex','AgeFill','FirstClass','SecondClass', 'ThirdClass']\n",
    "\n",
    "titanic_y = df[['survived']]\n",
    "# print(\"Feature set (titanic_X):\")\n",
    "print(titanic_X.head(10))\n",
    "\n",
    "# print(\"\\nTarget column (titanic_y):\")\n",
    "# print(titanic_y.head())\n"
   ]
  },
  {
   "cell_type": "code",
   "execution_count": null,
   "metadata": {},
   "outputs": [
    {
     "data": {
      "text/html": [
       "<div>\n",
       "<style scoped>\n",
       "    .dataframe tbody tr th:only-of-type {\n",
       "        vertical-align: middle;\n",
       "    }\n",
       "\n",
       "    .dataframe tbody tr th {\n",
       "        vertical-align: top;\n",
       "    }\n",
       "\n",
       "    .dataframe thead th {\n",
       "        text-align: right;\n",
       "    }\n",
       "</style>\n",
       "<table border=\"1\" class=\"dataframe\">\n",
       "  <thead>\n",
       "    <tr style=\"text-align: right;\">\n",
       "      <th></th>\n",
       "      <th>survived</th>\n",
       "      <th>Sex</th>\n",
       "      <th>PClass</th>\n",
       "      <th>AgeFill</th>\n",
       "      <th>FirstClass</th>\n",
       "      <th>SecondClass</th>\n",
       "      <th>ThirdClass</th>\n",
       "    </tr>\n",
       "  </thead>\n",
       "  <tbody>\n",
       "    <tr>\n",
       "      <th>0</th>\n",
       "      <td>1</td>\n",
       "      <td>0</td>\n",
       "      <td>1</td>\n",
       "      <td>29.0000</td>\n",
       "      <td>1</td>\n",
       "      <td>0</td>\n",
       "      <td>0</td>\n",
       "    </tr>\n",
       "    <tr>\n",
       "      <th>1</th>\n",
       "      <td>0</td>\n",
       "      <td>0</td>\n",
       "      <td>1</td>\n",
       "      <td>2.0000</td>\n",
       "      <td>1</td>\n",
       "      <td>0</td>\n",
       "      <td>0</td>\n",
       "    </tr>\n",
       "    <tr>\n",
       "      <th>2</th>\n",
       "      <td>0</td>\n",
       "      <td>1</td>\n",
       "      <td>1</td>\n",
       "      <td>30.0000</td>\n",
       "      <td>1</td>\n",
       "      <td>0</td>\n",
       "      <td>0</td>\n",
       "    </tr>\n",
       "    <tr>\n",
       "      <th>3</th>\n",
       "      <td>0</td>\n",
       "      <td>0</td>\n",
       "      <td>1</td>\n",
       "      <td>25.0000</td>\n",
       "      <td>1</td>\n",
       "      <td>0</td>\n",
       "      <td>0</td>\n",
       "    </tr>\n",
       "    <tr>\n",
       "      <th>4</th>\n",
       "      <td>1</td>\n",
       "      <td>1</td>\n",
       "      <td>1</td>\n",
       "      <td>0.9167</td>\n",
       "      <td>1</td>\n",
       "      <td>0</td>\n",
       "      <td>0</td>\n",
       "    </tr>\n",
       "    <tr>\n",
       "      <th>5</th>\n",
       "      <td>1</td>\n",
       "      <td>1</td>\n",
       "      <td>1</td>\n",
       "      <td>47.0000</td>\n",
       "      <td>1</td>\n",
       "      <td>0</td>\n",
       "      <td>0</td>\n",
       "    </tr>\n",
       "    <tr>\n",
       "      <th>6</th>\n",
       "      <td>1</td>\n",
       "      <td>0</td>\n",
       "      <td>1</td>\n",
       "      <td>63.0000</td>\n",
       "      <td>1</td>\n",
       "      <td>0</td>\n",
       "      <td>0</td>\n",
       "    </tr>\n",
       "    <tr>\n",
       "      <th>7</th>\n",
       "      <td>0</td>\n",
       "      <td>1</td>\n",
       "      <td>1</td>\n",
       "      <td>39.0000</td>\n",
       "      <td>1</td>\n",
       "      <td>0</td>\n",
       "      <td>0</td>\n",
       "    </tr>\n",
       "    <tr>\n",
       "      <th>8</th>\n",
       "      <td>1</td>\n",
       "      <td>0</td>\n",
       "      <td>1</td>\n",
       "      <td>58.0000</td>\n",
       "      <td>1</td>\n",
       "      <td>0</td>\n",
       "      <td>0</td>\n",
       "    </tr>\n",
       "    <tr>\n",
       "      <th>9</th>\n",
       "      <td>0</td>\n",
       "      <td>1</td>\n",
       "      <td>1</td>\n",
       "      <td>71.0000</td>\n",
       "      <td>1</td>\n",
       "      <td>0</td>\n",
       "      <td>0</td>\n",
       "    </tr>\n",
       "  </tbody>\n",
       "</table>\n",
       "</div>"
      ],
      "text/plain": [
       "   survived  Sex  PClass  AgeFill  FirstClass  SecondClass  ThirdClass\n",
       "0         1    0       1  29.0000           1            0           0\n",
       "1         0    0       1   2.0000           1            0           0\n",
       "2         0    1       1  30.0000           1            0           0\n",
       "3         0    0       1  25.0000           1            0           0\n",
       "4         1    1       1   0.9167           1            0           0\n",
       "5         1    1       1  47.0000           1            0           0\n",
       "6         1    0       1  63.0000           1            0           0\n",
       "7         0    1       1  39.0000           1            0           0\n",
       "8         1    0       1  58.0000           1            0           0\n",
       "9         0    1       1  71.0000           1            0           0"
      ]
     },
     "execution_count": 19,
     "metadata": {},
     "output_type": "execute_result"
    }
   ],
   "source": [
    "titanic_X.head(10)"
   ]
  },
  {
   "cell_type": "code",
   "execution_count": null,
   "metadata": {},
   "outputs": [
    {
     "data": {
      "text/html": [
       "<div>\n",
       "<style scoped>\n",
       "    .dataframe tbody tr th:only-of-type {\n",
       "        vertical-align: middle;\n",
       "    }\n",
       "\n",
       "    .dataframe tbody tr th {\n",
       "        vertical-align: top;\n",
       "    }\n",
       "\n",
       "    .dataframe thead th {\n",
       "        text-align: right;\n",
       "    }\n",
       "</style>\n",
       "<table border=\"1\" class=\"dataframe\">\n",
       "  <thead>\n",
       "    <tr style=\"text-align: right;\">\n",
       "      <th></th>\n",
       "      <th>survived</th>\n",
       "    </tr>\n",
       "  </thead>\n",
       "  <tbody>\n",
       "    <tr>\n",
       "      <th>0</th>\n",
       "      <td>1</td>\n",
       "    </tr>\n",
       "    <tr>\n",
       "      <th>1</th>\n",
       "      <td>0</td>\n",
       "    </tr>\n",
       "    <tr>\n",
       "      <th>2</th>\n",
       "      <td>0</td>\n",
       "    </tr>\n",
       "    <tr>\n",
       "      <th>3</th>\n",
       "      <td>0</td>\n",
       "    </tr>\n",
       "    <tr>\n",
       "      <th>4</th>\n",
       "      <td>1</td>\n",
       "    </tr>\n",
       "    <tr>\n",
       "      <th>5</th>\n",
       "      <td>1</td>\n",
       "    </tr>\n",
       "    <tr>\n",
       "      <th>6</th>\n",
       "      <td>1</td>\n",
       "    </tr>\n",
       "    <tr>\n",
       "      <th>7</th>\n",
       "      <td>0</td>\n",
       "    </tr>\n",
       "    <tr>\n",
       "      <th>8</th>\n",
       "      <td>1</td>\n",
       "    </tr>\n",
       "    <tr>\n",
       "      <th>9</th>\n",
       "      <td>0</td>\n",
       "    </tr>\n",
       "  </tbody>\n",
       "</table>\n",
       "</div>"
      ],
      "text/plain": [
       "   survived\n",
       "0         1\n",
       "1         0\n",
       "2         0\n",
       "3         0\n",
       "4         1\n",
       "5         1\n",
       "6         1\n",
       "7         0\n",
       "8         1\n",
       "9         0"
      ]
     },
     "execution_count": 20,
     "metadata": {},
     "output_type": "execute_result"
    }
   ],
   "source": [
    "titanic_y.head(10)"
   ]
  },
  {
   "cell_type": "markdown",
   "metadata": {},
   "source": [
    "## 5. Analyse Dataset"
   ]
  },
  {
   "cell_type": "markdown",
   "metadata": {},
   "source": [
    "The preprocessing step is usually under-estimated in machine learning methods, but as we can see even in this very simple example, it can take some time to make data look as our methods expect. It is also very important in the overall machine learning process; if we fail in this step (for example, incorrectly encoding attributes, or selecting the wrong features), the following steps will fail, no matter how good the method we use for learning!!\n",
    "\n",
    "We are now ready for the implementation of decision trees in scikit-learn, as this algo expects as input a list of \n",
    "real-valued features, and the decision rules of the model would be of the form: Feature < value. \n",
    "For example, AgeFill < 20.0.\n",
    "\n",
    "Standardization (normalization) is not an issue for decision trees because the relative magnitude of features does not \n",
    "affect the classifier performance; so scaling is not needed."
   ]
  },
  {
   "cell_type": "markdown",
   "metadata": {},
   "source": [
    "### 5.1. Training a Decision Tree Classifier"
   ]
  },
  {
   "cell_type": "code",
   "execution_count": 68,
   "metadata": {},
   "outputs": [
    {
     "name": "stdout",
     "output_type": "stream",
     "text": [
      "Training set size (X_train): 5514\n",
      "Testing set size (X_test): 2364\n"
     ]
    }
   ],
   "source": [
    "# Now to the interesting part; let's build a decision tree from our training data. \n",
    "# As usual, first separate training and testing data, and check the size of both sets.\n",
    "from sklearn.model_selection import train_test_split\n",
    "\n",
    "## Your code ...\n",
    "X_train, X_test, y_train, y_test = train_test_split(titanic_X, titanic_y, test_size=0.3, random_state=1)\n",
    "print(\"Training set size (X_train):\", X_train.size)\n",
    "print(\"Testing set size (X_test):\", X_test.size)\n"
   ]
  },
  {
   "cell_type": "code",
   "execution_count": null,
   "metadata": {},
   "outputs": [],
   "source": [
    "# Now, we can create a new DecisionTreeClassifier and use the fit method of the classifier to do the learning job. \n",
    "# Parameter settings: use the entropy citerion and try out different settings for the depth of the tree and the \n",
    "# minimum samples required for a node in the tree graph\n",
    "\n",
    "# from sklearn.tree import DecisionTreeClassifier\n",
    "\n",
    "# # Define different settings for max depth and min samples split\n",
    "# max_depths = 50  # None means unlimited depth\n",
    "# min_samples_splits = 5\n",
    "\n",
    "\n",
    "# clf = DecisionTreeClassifier(criterion='entropy', max_depth=max_depths, min_samples_split=min_samples_splits, random_state=42)\n",
    "# clf.fit(X_train, y_train)\n",
    "# # Evaluate the classifier\n",
    "# train_score = clf.score(X_train, y_train)\n",
    "# test_score = clf.score(X_test, y_test)\n",
    "\n",
    "# print(f\"Max Depth: {max_depths}, Min Samples Split: {min_samples_splits}\")\n",
    "# print(f\"Training Accuracy: {train_score:.4f}, Testing Accuracy: {test_score:.4f}\")\n",
    "# print(\"=\"*50)\n",
    "# import tree\n",
    "\n"
   ]
  },
  {
   "cell_type": "markdown",
   "metadata": {},
   "source": [
    "### 5.2. Evaluation Metrics Function"
   ]
  },
  {
   "cell_type": "code",
   "execution_count": 69,
   "metadata": {},
   "outputs": [
    {
     "name": "stdout",
     "output_type": "stream",
     "text": [
      "Accuracy0.8527918781725888\n"
     ]
    }
   ],
   "source": [
    "# Define a generic helper function to measure the performance of the classifier, and call this function to show \n",
    "# the results (e.g. accuracy)\n",
    "# import tree\n",
    "from sklearn import metrics\n",
    "from sklearn.tree import DecisionTreeClassifier\n",
    "\n",
    "\n",
    "## Your code ...\n",
    "\n",
    "\n",
    "dtc = DecisionTreeClassifier(random_state = 42, criterion='entropy', max_depth = 2)\n",
    "clf = dtc.fit(X_train,y_train)\n",
    "y_pred = clf.predict(X_test)\n",
    "\n",
    "#----------------\n",
    "\n",
    "\n",
    "def performance(pred: np.ndarray, test: pd.core.series.Series):\n",
    "    print(\"Accuracy\" + str(metrics.accuracy_score(test, pred)))\n",
    "\n",
    "performance(y_pred, y_test)"
   ]
  },
  {
   "cell_type": "markdown",
   "metadata": {},
   "source": [
    "## 6. Introducing Random Forest"
   ]
  },
  {
   "cell_type": "markdown",
   "metadata": {},
   "source": [
    "A common criticism to decision trees is that once the training set is divided after\n",
    "answering a question, it is not possible to *reconsider this decision*. For example, if\n",
    "we divide men and women, every subsequent question would be only about men or\n",
    "women, and the method could not consider another type of question (say, age less\n",
    "than a year, irrespective of the gender). Random Forests try to introduce some level\n",
    "of randomization in each step, proposing alternative trees and combining them to\n",
    "get the final prediction. These types of algorithms that consider several classifiers\n",
    "answering the same question are called **ensemble methods**. In the Titanic task, it is\n",
    "probably hard to see this problem because we have very few features, but usually\n",
    "a case has in the order of thousand(s) features."
   ]
  },
  {
   "cell_type": "markdown",
   "metadata": {},
   "source": [
    "Random Forests propose to build several decision trees, each one based on a subset of the training\n",
    "instances (selected randomly), and using a small random number of features. \n",
    "This produces multiple classifiers (multiple decision trees). \n",
    "At prediction time, each grown tree, given an instance, predicts its target class exactly as decision trees do. \n",
    "The class that most of the trees vote (that is the class most predicted by the trees) is the one suggested by the ensemble classifier."
   ]
  },
  {
   "cell_type": "markdown",
   "metadata": {},
   "source": [
    "## 7. Implement Random Forest"
   ]
  },
  {
   "cell_type": "markdown",
   "metadata": {},
   "source": [
    "Implement a Random Forest classifier. Can you improve to above accuracy? Look at the sklearn documentation. Play with the parameters of the ``RandomForestClassifier``. Especially the parameter ``n_estimators`` (the number of trees in the forest) is of interest."
   ]
  },
  {
   "cell_type": "code",
   "execution_count": 70,
   "metadata": {},
   "outputs": [
    {
     "name": "stdout",
     "output_type": "stream",
     "text": [
      "Accuracy0.8350253807106599\n"
     ]
    },
    {
     "name": "stderr",
     "output_type": "stream",
     "text": [
      "c:\\Users\\Leonardo\\anaconda3\\Lib\\site-packages\\sklearn\\base.py:1151: DataConversionWarning: A column-vector y was passed when a 1d array was expected. Please change the shape of y to (n_samples,), for example using ravel().\n",
      "  return fit_method(estimator, *args, **kwargs)\n"
     ]
    }
   ],
   "source": [
    "# Implement a Random Forest classifier, does this improve the prediction?\n",
    "\n",
    "## Your code ...\n",
    "\n",
    "# from sklearn.ensemble import RandomForestClassifier\n",
    "\n",
    "# Initialize and train the Random Forest classifier\n",
    "rfc = RandomForestClassifier(random_state=42, n_estimators=100)\n",
    "rfc.fit(X_train, y_train)\n",
    "y_pred_rf = rfc.predict(X_test)\n",
    "performance(y_pred_rf, y_test)\n"
   ]
  }
 ],
 "metadata": {
  "kernelspec": {
   "display_name": "Python 3",
   "language": "python",
   "name": "python3"
  },
  "language_info": {
   "codemirror_mode": {
    "name": "ipython",
    "version": 3
   },
   "file_extension": ".py",
   "mimetype": "text/x-python",
   "name": "python",
   "nbconvert_exporter": "python",
   "pygments_lexer": "ipython3",
   "version": "3.11.5"
  }
 },
 "nbformat": 4,
 "nbformat_minor": 1
}
